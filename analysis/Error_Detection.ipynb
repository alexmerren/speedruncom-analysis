{
 "cells": [
  {
   "cell_type": "code",
   "execution_count": 1,
   "metadata": {},
   "outputs": [],
   "source": [
    "import csv\n",
    "import networkx as nx"
   ]
  },
  {
   "cell_type": "markdown",
   "metadata": {},
   "source": [
    "## Related Games File and Games Information Discrepancy\n",
    "\n",
    "In this function we are trying to find the discrepancy in games between the games found in the collated version of `data/related_games/` and the games found in `data/games_metadata/all_games.csv`. This leads us to have two games that are present in the related games, but not the games information: `k6qw78o6` and `4d7e8g67`. I have no idea what these games are, and they cannot be found on the speedrun.com API anymore."
   ]
  },
  {
   "cell_type": "code",
   "execution_count": 2,
   "metadata": {},
   "outputs": [],
   "source": [
    "def find_difference_between_gamesinfo_and_toobig(gamesinfo_filename, toobig_filename):\n",
    "    games_from_gamesinfo, games_from_toobig = set(), set()\n",
    "\n",
    "    with open(toobig_filename, 'r') as openfile:\n",
    "            csv_reader = csv.reader(openfile)\n",
    "            next(csv_reader)\n",
    "            [games_from_toobig.add(row[0]) for row in csv_reader]\n",
    "\n",
    "    with open(gamesinfo_filename, 'r') as openfile:\n",
    "            csv_reader = csv.reader(openfile)\n",
    "            next(csv_reader)\n",
    "            [games_from_gamesinfo.add(row[0]) for row in csv_reader]\n",
    "\n",
    "    return list(games_from_toobig - games_from_gamesinfo)\n",
    "\n",
    "def find_number_of_games(filename):\n",
    "        games = set()\n",
    "        with open(filename, 'r') as openfile:\n",
    "            csv_reader = csv.reader(openfile)\n",
    "            next(csv_reader)\n",
    "            [games.add(row[0]) for row in csv_reader]\n",
    "            [games.add(row[1]) for row in csv_reader]\n",
    "        return len(games)"
   ]
  },
  {
   "cell_type": "code",
   "execution_count": 3,
   "metadata": {},
   "outputs": [
    {
     "data": {
      "text/plain": [
       "['k6qw78o6', '4d7e8g67']"
      ]
     },
     "execution_count": 3,
     "metadata": {},
     "output_type": "execute_result"
    }
   ],
   "source": [
    "find_difference_between_gamesinfo_and_toobig(\"../data/games_metadata/all_games.csv\", \"../data/too_big/all_games.csv\")"
   ]
  },
  {
   "cell_type": "markdown",
   "metadata": {},
   "source": [
    "## Related Games Graph and Games Information Discrepancy\n",
    "\n",
    "In this series of functions, we are trying to find the discrepancy in games from the generated graph and the list of games in `data/games_metadata/all_games.csv`. We find that there are 2016 games missing from the generated network and the list of games.  There are a couple scenarios where a game is not present in the network:\n",
    " 1. A game has zero runs;\n",
    " 2. A game is played by ONLY guests;\n",
    " 3. A game is played by users, but those users have only played the one game. Since we are not allowing edges with the same source and target, they are not present in the network."
   ]
  },
  {
   "cell_type": "code",
   "execution_count": 4,
   "metadata": {},
   "outputs": [],
   "source": [
    "def get_weighted_edges_from_csv(filename, filter=None):\n",
    "    with open(filename, 'r') as openfile:\n",
    "        csv_reader = csv.reader(openfile)\n",
    "        next(csv_reader)\n",
    "\n",
    "        edges = list()\n",
    "        for row in csv_reader:\n",
    "            if filter is None:\n",
    "                edges.append(tuple([row[0], row[1], int(row[2])]))\n",
    "                continue\n",
    "            \n",
    "            if not filter.get(row[0]) or not filter.get(row[1]):\n",
    "                continue\n",
    "\n",
    "            edges.append(tuple([row[0], row[1], int(row[2])]))\n",
    "\n",
    "    return edges\n",
    "\n",
    "def generate_graph_from_edges(edges_list):\n",
    "    directed_graph = nx.DiGraph()\n",
    "    directed_graph.add_weighted_edges_from(edges_list)\n",
    "    return directed_graph\n",
    "\n",
    "def find_missing_games_from_network(games_filename, graph_filename):\n",
    "    edges = get_weighted_edges_from_csv(graph_filename, filter=None)\n",
    "    graph = generate_graph_from_edges(edges)\n",
    "\n",
    "    nodes = set(graph.nodes)\n",
    "    games = set()\n",
    "    with open(games_filename, 'r') as openfile:\n",
    "        csv_reader = csv.reader(openfile)\n",
    "        next(csv_reader)\n",
    "        [games.add(row[0]) for row in csv_reader]\n",
    "    return list(games - nodes)\n"
   ]
  },
  {
   "cell_type": "code",
   "execution_count": 5,
   "metadata": {},
   "outputs": [
    {
     "name": "stdout",
     "output_type": "stream",
     "text": [
      "2016\n"
     ]
    }
   ],
   "source": [
    "games_filename = \"../data/games_metadata/all_games.csv\"\n",
    "graph_filename = \"../data/too_big/all_games.csv\"\n",
    "missing_games = find_missing_games_from_network(games_filename, graph_filename)\n",
    "print(len(missing_games))\n",
    "# print(missing_games)"
   ]
  },
  {
   "cell_type": "markdown",
   "metadata": {},
   "source": [
    "## Games Information Dataframe and Filtered Graph Discrepancy\n",
    "\n",
    "We filter the games information dataframe to come up with the discrepancy between the filtered number of games and the number of nodes in the related games graph. We filter by the created date and release date before 2023/01/01, the number of runs being bigger than zero, and the number of users being bigger than zero. This gets us to 30677, which is 243 different than the number found in `network_analysis.ipynb`. I suspect this is due to the third reason listed there, which is that the users that have played that game have *only* played that game. This removes them from the network."
   ]
  },
  {
   "cell_type": "code",
   "execution_count": 6,
   "metadata": {},
   "outputs": [],
   "source": [
    "import pandas as pd\n",
    "import numpy as np\n",
    "import seaborn as sns\n",
    "\n",
    "import matplotlib.pyplot as plt"
   ]
  },
  {
   "cell_type": "code",
   "execution_count": 7,
   "metadata": {},
   "outputs": [
    {
     "name": "stdout",
     "output_type": "stream",
     "text": [
      "<class 'pandas.core.frame.DataFrame'>\n",
      "Int64Index: 30677 entries, 0 to 32827\n",
      "Data columns (total 10 columns):\n",
      " #   Column          Non-Null Count  Dtype         \n",
      "---  ------          --------------  -----         \n",
      " 0   game_id         30677 non-null  object        \n",
      " 1   game_name       30677 non-null  object        \n",
      " 2   developers      30677 non-null  object        \n",
      " 3   release_date    30677 non-null  datetime64[ns]\n",
      " 4   created_date    30677 non-null  datetime64[ns]\n",
      " 5   num_categories  30677 non-null  int64         \n",
      " 6   num_levels      30677 non-null  int64         \n",
      " 7   num_runs        30677 non-null  int64         \n",
      " 8   num_users       30677 non-null  int64         \n",
      " 9   num_guests      30677 non-null  int64         \n",
      "dtypes: datetime64[ns](2), int64(5), object(3)\n",
      "memory usage: 2.6+ MB\n"
     ]
    }
   ],
   "source": [
    "df = pd.read_csv('../data/games_metadata/all_games.csv')\n",
    "\n",
    "# This drops indices that have a time as none, reduces values from before 2023-01-01, and formats the timestamps correctly.\n",
    "df.drop(df[df['created_date'] == 'None'].index, inplace=True)\n",
    "\n",
    "df = df.dropna()\n",
    "\n",
    "df['release_date'] = pd.to_datetime(df['release_date'])\n",
    "df['created_date'] = pd.to_datetime(df['created_date'], format='%Y-%m-%dT%H:%M:%SZ')\n",
    "\n",
    "df['release_date'] = pd.to_datetime(df['release_date'].dt.strftime('%Y-%m-%d'))\n",
    "df['created_date'] = pd.to_datetime(df['created_date'].dt.strftime('%Y-%m-%d'))\n",
    "\n",
    "df = df[(df['created_date'] < '2023-01-01') & (df['release_date'] < '2023-01-01')]\n",
    "\n",
    "df[['num_categories', 'num_levels', 'num_runs', 'num_users', 'num_guests']] = df[['num_categories', 'num_levels', 'num_runs', 'num_users', 'num_guests']].apply(pd.to_numeric)\n",
    "\n",
    "df = df[(df['num_runs'] != 0) & (df['num_users'] != 0)]\n",
    "df.info()"
   ]
  }
 ],
 "metadata": {
  "interpreter": {
   "hash": "ed225720166559e7176d3793db16a2fd8d295f725007103b21ac3099d2a89ee8"
  },
  "kernelspec": {
   "display_name": "Python 3.9.12 ('base')",
   "language": "python",
   "name": "python3"
  },
  "language_info": {
   "codemirror_mode": {
    "name": "ipython",
    "version": 3
   },
   "file_extension": ".py",
   "mimetype": "text/x-python",
   "name": "python",
   "nbconvert_exporter": "python",
   "pygments_lexer": "ipython3",
   "version": "3.9.12"
  },
  "orig_nbformat": 4
 },
 "nbformat": 4,
 "nbformat_minor": 2
}
