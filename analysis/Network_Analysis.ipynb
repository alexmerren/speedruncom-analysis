{
 "cells": [
  {
   "cell_type": "code",
   "execution_count": 1,
   "metadata": {},
   "outputs": [],
   "source": [
    "import csv\n",
    "\n",
    "import networkx as nx\n",
    "import pandas as pd\n",
    "import numpy as np\n",
    "import seaborn as sns\n",
    "import matplotlib.pyplot as plt\n",
    "\n",
    "from networkx.algorithms import pagerank\n",
    "from collections import defaultdict\n",
    "from datetime import datetime\n",
    "from operator import itemgetter"
   ]
  },
  {
   "cell_type": "markdown",
   "metadata": {},
   "source": [
    "## Constants\n",
    "We have defined `FINAL_DATE` to mark the cutoff date for the entire project, we use this for the filter on the network so any games that were released/created after the cutoff date are not included."
   ]
  },
  {
   "cell_type": "code",
   "execution_count": 2,
   "metadata": {},
   "outputs": [],
   "source": [
    "FINAL_DATE = datetime(2023, 1, 1)"
   ]
  },
  {
   "cell_type": "markdown",
   "metadata": {},
   "source": [
    "## Graph Generation\n",
    "\n",
    "We have three functions to generate directed graphs using the `networkx` package. At the moment, the function `generate_network_filter` removes entries in the collated related games file where the game has a release date or created date after the cutoff date."
   ]
  },
  {
   "cell_type": "code",
   "execution_count": 4,
   "metadata": {},
   "outputs": [],
   "source": [
    "def generate_network_filter(filename: str):\n",
    "    with open(filename, 'r') as openfile:\n",
    "        csv_reader = csv.reader(openfile)\n",
    "        next(csv_reader)\n",
    "        filter_map = defaultdict(bool)\n",
    "        for row in csv_reader:\n",
    "            # Check if the created/release date is after 2023, if it is then we can ignore it in the network.\n",
    "            release_date = datetime.strptime(row[3], \"%Y-%m-%d\")\n",
    "            if row[4] == \"None\":\n",
    "                row[4] = \"2017-10-22T05:21:29Z\" # This is a completely random date before the final date.\n",
    "            created_date = datetime.strptime(row[4], \"%Y-%m-%dT%H:%M:%SZ\")\n",
    "\n",
    "            disallowed_games = [\"y65797de\"]\n",
    "\n",
    "            if created_date < FINAL_DATE and release_date < FINAL_DATE and \\\n",
    "                row[0] not in disallowed_games and row[1] not in disallowed_games:\n",
    "                filter_map[row[0]] = True\n",
    "\n",
    "    return filter_map\n",
    "\n",
    "def get_weighted_edges_from_csv(filename, filter=None):\n",
    "    with open(filename, 'r') as openfile:\n",
    "        csv_reader = csv.reader(openfile)\n",
    "        next(csv_reader)\n",
    "\n",
    "        edges = list()\n",
    "        for row in csv_reader:\n",
    "            if filter is None:\n",
    "                edges.append(tuple([row[0], row[1], int(row[2])]))\n",
    "                continue\n",
    "            \n",
    "            if not filter.get(row[0]) or not filter.get(row[1]):\n",
    "                continue\n",
    "\n",
    "            edges.append(tuple([row[0], row[1], int(row[2])]))\n",
    "\n",
    "    return edges\n",
    "\n",
    "def generate_graph_from_edges(edges_list):\n",
    "    directed_graph = nx.DiGraph()\n",
    "    directed_graph.add_weighted_edges_from(edges_list)\n",
    "    return directed_graph"
   ]
  },
  {
   "cell_type": "markdown",
   "metadata": {},
   "source": [
    "## Metric Functions\n",
    "\n",
    "Here are some functions that I am using to measure the network. Currently, we are measuring betweenness centrality, pagerank popularity, and probably some communities in the future."
   ]
  },
  {
   "cell_type": "code",
   "execution_count": 5,
   "metadata": {},
   "outputs": [],
   "source": [
    "def find_top_n_pagerank_nodes(g: nx.Graph, n=1):\n",
    "    values = pagerank(g)\n",
    "    values_sorted = dict(sorted(values.items(), key=lambda item: item[1], reverse=True))\n",
    "    return list(values_sorted)[0:n]\n",
    "\n",
    "def get_graph_order_size(g: nx.Graph):\n",
    "    return g.order(), g.size()\n",
    "\n",
    "def find_top_n_betweenness_centrality_nodes(g: nx.Graph, n=10):\n",
    "    degree_centrality = nx.degree_centrality(g)\n",
    "    betweenness_centrality = nx.betweenness_centrality(g, normalized=True, endpoints=True)\n",
    "\n",
    "    degree_centrality_sorted = dict(sorted(degree_centrality.items(), key=lambda item: item[1], reverse=True))\n",
    "    betweenness_centrality_sorted = dict(sorted(betweenness_centrality.items(), key=lambda item: item[1], reverse=True))\n",
    "\n",
    "    keys_top_degree = list(degree_centrality_sorted)[0:n]\n",
    "    keys_top_betweenness = list(betweenness_centrality_sorted)[0:n]\n",
    "    return list(set(keys_top_degree) & set(keys_top_betweenness))\n",
    "\n",
    "def find_degree_sequence(g: nx.Graph):\n",
    "    return [g.degree(n) for n in g.nodes]\n",
    "\n",
    "def find_top_n_highest_out_degree_node(g: nx.Graph, n=10):\n",
    "    return sorted(g.out_degree(), key=itemgetter(1), reverse=True)[:n]\n",
    "\n",
    "def find_top_n_highest_out_degree_with_weight(g: nx.Graph, n=10):\n",
    "    return sorted(g.out_degree(weight='weight'), key=itemgetter(1), reverse=True)[:n]\n",
    "\n",
    "def find_top_n_highest_in_degree_node(g: nx.Graph, n=10):\n",
    "    return sorted(g.in_degree(), key=itemgetter(1), reverse=True)[:n]\n",
    "\n",
    "def find_top_n_highest_in_degree_with_weight(g: nx.Graph, n=10):\n",
    "    return sorted(g.in_degree(weight='weight'), key=itemgetter(1), reverse=True)[:n]\n",
    "\n",
    "def is_graph_weakly_connected(g: nx.Graph):\n",
    "    return nx.is_weakly_connected(g)\n",
    "\n",
    "def find_number_weakly_connected_components(g: nx.Graph):\n",
    "    return nx.number_weakly_connected_components(g)\n"
   ]
  },
  {
   "cell_type": "markdown",
   "metadata": {},
   "source": [
    "## Full Games Network\n",
    "\n",
    "We are generating a network using the entire related games network that has been filtered using the previously mentioned function. This gives us a directed graph with 30,433 nodes**, and **14,739,311 edges**. Without filtering, we get a network that has **30,970 nodes** and **14,857,762 edges**. The filtering removes **537 edges** and **118,451 nodes**."
   ]
  },
  {
   "cell_type": "code",
   "execution_count": 6,
   "metadata": {},
   "outputs": [
    {
     "name": "stdout",
     "output_type": "stream",
     "text": [
      "FILTERED: (30433, 14739311)\n",
      "UNFILTERED: (30970, 14857762)\n"
     ]
    }
   ],
   "source": [
    "filter_filename = \"../data/games_information/all_games.csv\"\n",
    "graph_filename = \"../data/too_big/all_games.csv\"\n",
    "filter_map = generate_network_filter(filter_filename)\n",
    "edges = get_weighted_edges_from_csv(graph_filename, filter=filter_map)\n",
    "filtered_graph = generate_graph_from_edges(edges)\n",
    "print(f\"FILTERED: {get_graph_order_size(filtered_graph)}\")\n",
    "\n",
    "edges = get_weighted_edges_from_csv(graph_filename, filter=None)\n",
    "unfiltered_graph = generate_graph_from_edges(edges)\n",
    "print(f\"UNFILTERED: {get_graph_order_size(unfiltered_graph)}\")"
   ]
  },
  {
   "cell_type": "markdown",
   "metadata": {},
   "source": [
    "### Metrics of the Full Games Network\n",
    "\n",
    "We are finding various metrics of the games network. So far, we have found the highest in and out degree nodes, and that the graph is not weakly connected. We will be finding out the betweenness centrality and other metrics."
   ]
  },
  {
   "cell_type": "code",
   "execution_count": 7,
   "metadata": {},
   "outputs": [
    {
     "name": "stdout",
     "output_type": "stream",
     "text": [
      "HIGHEST OUT: [('k6q4rqzd', 9206), ('o1y9j9v6', 7491), ('o1y9wo6q', 7294), ('k6q474zd', 6850), ('om1m3625', 6794), ('46w0n91r', 6683), ('9d3rv59d', 6648), ('3dxz7p1y', 6294), ('pd0wq31e', 6288), ('76rmo418', 6001)]\n",
      "HIGHEST OUT WITH WEIGHT: [('k6q4rqzd', 151023), ('o1y9wo6q', 101462), ('k6q474zd', 89935), ('o1y9pyk6', 80571), ('o1yj5n21', 79892), ('j1n29w1p', 75175), ('369pxvg1', 72947), ('m1mnnojd', 69459), ('76r55vd8', 69281), ('kdknmqdm', 67686)]\n",
      "HIGHEST IN: [('k6q4rqzd', 9211), ('o1y9j9v6', 7488), ('o1y9wo6q', 7302), ('k6q474zd', 6855), ('om1m3625', 6795), ('46w0n91r', 6696), ('9d3rv59d', 6656), ('3dxz7p1y', 6299), ('pd0wq31e', 6293), ('76rmo418', 6004)]\n",
      "HIGHEST IN WITH WEIGHT: [('k6q4rqzd', 2005087), ('j1ne0vl1', 1643535), ('nd285r3d', 1093294), ('w6jl9o5d', 967633), ('3dx2j9y1', 840104), ('j1ll47v1', 758797), ('o1y7pv1q', 553313), ('m1zjnrm6', 551302), ('o1yj5n21', 521378), ('9dowpxm1', 487811)]\n"
     ]
    }
   ],
   "source": [
    "print(f\"HIGHEST OUT: {find_top_n_highest_out_degree_node(filtered_graph)}\")\n",
    "print(f\"HIGHEST OUT WITH WEIGHT: {find_top_n_highest_out_degree_with_weight(filtered_graph)}\")\n",
    "print(f\"HIGHEST IN: {find_top_n_highest_in_degree_node(filtered_graph)}\")\n",
    "print(f\"HIGHEST IN WITH WEIGHT: {find_top_n_highest_in_degree_with_weight(filtered_graph)}\")"
   ]
  },
  {
   "attachments": {},
   "cell_type": "markdown",
   "metadata": {},
   "source": [
    "The graph is not weakly connected. This means that we cannot reach every node in the graph by moving along edges -- there are some unconnected games."
   ]
  },
  {
   "cell_type": "code",
   "execution_count": 8,
   "metadata": {},
   "outputs": [
    {
     "data": {
      "text/plain": [
       "False"
      ]
     },
     "execution_count": 8,
     "metadata": {},
     "output_type": "execute_result"
    }
   ],
   "source": [
    "is_graph_weakly_connected(filtered_graph)"
   ]
  },
  {
   "cell_type": "code",
   "execution_count": 9,
   "metadata": {},
   "outputs": [
    {
     "data": {
      "text/plain": [
       "38"
      ]
     },
     "execution_count": 9,
     "metadata": {},
     "output_type": "execute_result"
    }
   ],
   "source": [
    "find_number_weakly_connected_components(filtered_graph)"
   ]
  },
  {
   "cell_type": "markdown",
   "metadata": {},
   "source": [
    "Here we are analysing the betweenness centrality of the full games network."
   ]
  },
  {
   "cell_type": "code",
   "execution_count": 10,
   "metadata": {},
   "outputs": [],
   "source": [
    "def format_games_information_dataframe(df: pd.DataFrame):\n",
    "    # Remove row if game do not have a created date.\n",
    "    df.drop(df[df['created_date'] == 'None'].index, inplace=True)\n",
    "    \n",
    "    # Remove rows with N/As in them.\n",
    "    df = df.dropna()\n",
    "    \n",
    "    # Format the release_date and created_date to be an actual date type.\n",
    "    df['release_date'] = pd.to_datetime(df['release_date'])\n",
    "    df['created_date'] = pd.to_datetime(df['created_date'], format='%Y-%m-%dT%H:%M:%SZ')\n",
    "    df['release_date'] = pd.to_datetime(df['release_date'].dt.strftime('%Y-%m-%d'))\n",
    "    df['created_date'] = pd.to_datetime(df['created_date'].dt.strftime('%Y-%m-%d'))\n",
    "    \n",
    "    # Remove rows with a created date or release date before cutoff.\n",
    "    df = df[(df['created_date'] < '2023-01-01') & (df['release_date'] < '2023-01-01')] \n",
    "    \n",
    "    # Format numeric data into a numeric data type.\n",
    "    df[['num_categories', 'num_levels', 'num_runs', 'num_users', 'num_guests']] = df[['num_categories', 'num_levels', 'num_runs', 'num_users', 'num_guests']].apply(pd.to_numeric)\n",
    "    \n",
    "    # Rename the game_id column to just id.\n",
    "    df.rename(columns = {'game_id' : 'id'}, inplace=True)\n",
    "\n",
    "    return df"
   ]
  },
  {
   "cell_type": "markdown",
   "metadata": {},
   "source": [
    "Below we are doing an inner join on the games information dataframe and the calculated betweenness centrality of the full games network. This gives us all the metadata about the games including their betweenness centrality values. We look for any correlations between the betweenness centrality and the meta data values, but most of them are uncorrelated apart from value vs. num_runs and value vs. num_users. This makes sense as these are *the* two drivers of popularity that we are measuring in our network. More users means more runs, and more runs means more popular. "
   ]
  },
  {
   "cell_type": "code",
   "execution_count": 11,
   "metadata": {},
   "outputs": [],
   "source": [
    "games_information_filename = \"../data/games_information/all_games.csv\"\n",
    "gi_df = pd.read_csv(games_information_filename)\n",
    "gi_df = format_games_information_dataframe(gi_df)\n",
    "\n",
    "betweenness_centrality_filename = \"../data/games_network/all_games_betweenness_centrality.csv\"\n",
    "bc_df = pd.read_csv(betweenness_centrality_filename)\n",
    "\n",
    "merged_df = bc_df.merge(gi_df, on='id', how='inner')"
   ]
  },
  {
   "cell_type": "code",
   "execution_count": 12,
   "metadata": {},
   "outputs": [
    {
     "data": {
      "text/html": [
       "<div>\n",
       "<style scoped>\n",
       "    .dataframe tbody tr th:only-of-type {\n",
       "        vertical-align: middle;\n",
       "    }\n",
       "\n",
       "    .dataframe tbody tr th {\n",
       "        vertical-align: top;\n",
       "    }\n",
       "\n",
       "    .dataframe thead th {\n",
       "        text-align: right;\n",
       "    }\n",
       "</style>\n",
       "<table border=\"1\" class=\"dataframe\">\n",
       "  <thead>\n",
       "    <tr style=\"text-align: right;\">\n",
       "      <th></th>\n",
       "      <th>id</th>\n",
       "      <th>value</th>\n",
       "      <th>game_name</th>\n",
       "      <th>developers</th>\n",
       "      <th>release_date</th>\n",
       "      <th>created_date</th>\n",
       "      <th>num_categories</th>\n",
       "      <th>num_levels</th>\n",
       "      <th>num_runs</th>\n",
       "      <th>num_users</th>\n",
       "      <th>num_guests</th>\n",
       "    </tr>\n",
       "  </thead>\n",
       "  <tbody>\n",
       "    <tr>\n",
       "      <th>625</th>\n",
       "      <td>o1y9j9v6</td>\n",
       "      <td>0.021817</td>\n",
       "      <td>Celeste</td>\n",
       "      <td>1zk4q26j</td>\n",
       "      <td>2018-01-25</td>\n",
       "      <td>2018-01-15</td>\n",
       "      <td>15</td>\n",
       "      <td>9</td>\n",
       "      <td>32317</td>\n",
       "      <td>5406</td>\n",
       "      <td>14</td>\n",
       "    </tr>\n",
       "    <tr>\n",
       "      <th>707</th>\n",
       "      <td>k6q4rqzd</td>\n",
       "      <td>0.021501</td>\n",
       "      <td>Seterra</td>\n",
       "      <td>4eppvoer,ne410dem</td>\n",
       "      <td>1997-01-01</td>\n",
       "      <td>2018-09-27</td>\n",
       "      <td>29</td>\n",
       "      <td>903</td>\n",
       "      <td>61962</td>\n",
       "      <td>7168</td>\n",
       "      <td>36</td>\n",
       "    </tr>\n",
       "    <tr>\n",
       "      <th>441</th>\n",
       "      <td>46w0n91r</td>\n",
       "      <td>0.011311</td>\n",
       "      <td>Mario Kart 8 Deluxe</td>\n",
       "      <td>xv6dvx62</td>\n",
       "      <td>2017-04-28</td>\n",
       "      <td>2017-04-30</td>\n",
       "      <td>10</td>\n",
       "      <td>0</td>\n",
       "      <td>15196</td>\n",
       "      <td>3046</td>\n",
       "      <td>20</td>\n",
       "    </tr>\n",
       "    <tr>\n",
       "      <th>574</th>\n",
       "      <td>76r55vd8</td>\n",
       "      <td>0.010459</td>\n",
       "      <td>Super Mario Odyssey</td>\n",
       "      <td>xv6dvx62</td>\n",
       "      <td>2017-10-27</td>\n",
       "      <td>2017-09-27</td>\n",
       "      <td>6</td>\n",
       "      <td>0</td>\n",
       "      <td>17212</td>\n",
       "      <td>3790</td>\n",
       "      <td>45</td>\n",
       "    </tr>\n",
       "    <tr>\n",
       "      <th>521</th>\n",
       "      <td>nd22xvd0</td>\n",
       "      <td>0.010159</td>\n",
       "      <td>Refunct</td>\n",
       "      <td>ge0ry3ep</td>\n",
       "      <td>2015-10-16</td>\n",
       "      <td>2015-10-20</td>\n",
       "      <td>4</td>\n",
       "      <td>0</td>\n",
       "      <td>5669</td>\n",
       "      <td>1568</td>\n",
       "      <td>6</td>\n",
       "    </tr>\n",
       "    <tr>\n",
       "      <th>505</th>\n",
       "      <td>w6jmm26j</td>\n",
       "      <td>0.007873</td>\n",
       "      <td>Cuphead</td>\n",
       "      <td>rzjkx7el</td>\n",
       "      <td>2017-09-29</td>\n",
       "      <td>2017-09-30</td>\n",
       "      <td>19</td>\n",
       "      <td>31</td>\n",
       "      <td>12221</td>\n",
       "      <td>1984</td>\n",
       "      <td>44</td>\n",
       "    </tr>\n",
       "    <tr>\n",
       "      <th>727</th>\n",
       "      <td>k6q474zd</td>\n",
       "      <td>0.007672</td>\n",
       "      <td>Minecraft (Classic)</td>\n",
       "      <td>None</td>\n",
       "      <td>2009-05-17</td>\n",
       "      <td>2020-09-15</td>\n",
       "      <td>11</td>\n",
       "      <td>0</td>\n",
       "      <td>4563</td>\n",
       "      <td>2599</td>\n",
       "      <td>14</td>\n",
       "    </tr>\n",
       "    <tr>\n",
       "      <th>490</th>\n",
       "      <td>268pjodp</td>\n",
       "      <td>0.006675</td>\n",
       "      <td>Barney's Hide &amp; Seek Game</td>\n",
       "      <td>None</td>\n",
       "      <td>1993-06-01</td>\n",
       "      <td>2015-02-08</td>\n",
       "      <td>4</td>\n",
       "      <td>0</td>\n",
       "      <td>365</td>\n",
       "      <td>267</td>\n",
       "      <td>18</td>\n",
       "    </tr>\n",
       "    <tr>\n",
       "      <th>4741</th>\n",
       "      <td>j1npme6p</td>\n",
       "      <td>0.006547</td>\n",
       "      <td>Minecraft: Java Edition</td>\n",
       "      <td>k62d97ex</td>\n",
       "      <td>2011-11-18</td>\n",
       "      <td>2015-01-29</td>\n",
       "      <td>15</td>\n",
       "      <td>0</td>\n",
       "      <td>18329</td>\n",
       "      <td>6268</td>\n",
       "      <td>491</td>\n",
       "    </tr>\n",
       "    <tr>\n",
       "      <th>432</th>\n",
       "      <td>kdkzrkxd</td>\n",
       "      <td>0.006353</td>\n",
       "      <td>Super Smash Bros. Ultimate</td>\n",
       "      <td>xv6dvx62,p6xlqm61,5yz8gx6w,4rzj1zlk</td>\n",
       "      <td>2018-12-07</td>\n",
       "      <td>2018-11-26</td>\n",
       "      <td>10</td>\n",
       "      <td>83</td>\n",
       "      <td>5167</td>\n",
       "      <td>853</td>\n",
       "      <td>95</td>\n",
       "    </tr>\n",
       "  </tbody>\n",
       "</table>\n",
       "</div>"
      ],
      "text/plain": [
       "            id     value                   game_name  \\\n",
       "625   o1y9j9v6  0.021817                     Celeste   \n",
       "707   k6q4rqzd  0.021501                     Seterra   \n",
       "441   46w0n91r  0.011311         Mario Kart 8 Deluxe   \n",
       "574   76r55vd8  0.010459         Super Mario Odyssey   \n",
       "521   nd22xvd0  0.010159                     Refunct   \n",
       "505   w6jmm26j  0.007873                     Cuphead   \n",
       "727   k6q474zd  0.007672         Minecraft (Classic)   \n",
       "490   268pjodp  0.006675   Barney's Hide & Seek Game   \n",
       "4741  j1npme6p  0.006547     Minecraft: Java Edition   \n",
       "432   kdkzrkxd  0.006353  Super Smash Bros. Ultimate   \n",
       "\n",
       "                               developers release_date created_date  \\\n",
       "625                              1zk4q26j   2018-01-25   2018-01-15   \n",
       "707                     4eppvoer,ne410dem   1997-01-01   2018-09-27   \n",
       "441                              xv6dvx62   2017-04-28   2017-04-30   \n",
       "574                              xv6dvx62   2017-10-27   2017-09-27   \n",
       "521                              ge0ry3ep   2015-10-16   2015-10-20   \n",
       "505                              rzjkx7el   2017-09-29   2017-09-30   \n",
       "727                                  None   2009-05-17   2020-09-15   \n",
       "490                                  None   1993-06-01   2015-02-08   \n",
       "4741                             k62d97ex   2011-11-18   2015-01-29   \n",
       "432   xv6dvx62,p6xlqm61,5yz8gx6w,4rzj1zlk   2018-12-07   2018-11-26   \n",
       "\n",
       "      num_categories  num_levels  num_runs  num_users  num_guests  \n",
       "625               15           9     32317       5406          14  \n",
       "707               29         903     61962       7168          36  \n",
       "441               10           0     15196       3046          20  \n",
       "574                6           0     17212       3790          45  \n",
       "521                4           0      5669       1568           6  \n",
       "505               19          31     12221       1984          44  \n",
       "727               11           0      4563       2599          14  \n",
       "490                4           0       365        267          18  \n",
       "4741              15           0     18329       6268         491  \n",
       "432               10          83      5167        853          95  "
      ]
     },
     "execution_count": 12,
     "metadata": {},
     "output_type": "execute_result"
    }
   ],
   "source": [
    "top_n_values = 10\n",
    "merged_df.sort_values(by=\"value\").tail(top_n_values).iloc[::-1]\n"
   ]
  },
  {
   "cell_type": "code",
   "execution_count": 13,
   "metadata": {},
   "outputs": [
    {
     "data": {
      "text/html": [
       "<div>\n",
       "<style scoped>\n",
       "    .dataframe tbody tr th:only-of-type {\n",
       "        vertical-align: middle;\n",
       "    }\n",
       "\n",
       "    .dataframe tbody tr th {\n",
       "        vertical-align: top;\n",
       "    }\n",
       "\n",
       "    .dataframe thead th {\n",
       "        text-align: right;\n",
       "    }\n",
       "</style>\n",
       "<table border=\"1\" class=\"dataframe\">\n",
       "  <thead>\n",
       "    <tr style=\"text-align: right;\">\n",
       "      <th></th>\n",
       "      <th>value</th>\n",
       "      <th>num_categories</th>\n",
       "      <th>num_levels</th>\n",
       "      <th>num_runs</th>\n",
       "      <th>num_users</th>\n",
       "      <th>num_guests</th>\n",
       "    </tr>\n",
       "    <tr>\n",
       "      <th>developers</th>\n",
       "      <th></th>\n",
       "      <th></th>\n",
       "      <th></th>\n",
       "      <th></th>\n",
       "      <th></th>\n",
       "      <th></th>\n",
       "    </tr>\n",
       "  </thead>\n",
       "  <tbody>\n",
       "    <tr>\n",
       "      <th>None</th>\n",
       "      <td>1.611427</td>\n",
       "      <td>58893</td>\n",
       "      <td>93559</td>\n",
       "      <td>920020</td>\n",
       "      <td>206470</td>\n",
       "      <td>10462</td>\n",
       "    </tr>\n",
       "    <tr>\n",
       "      <th>xv6dvx62</th>\n",
       "      <td>0.056938</td>\n",
       "      <td>601</td>\n",
       "      <td>2193</td>\n",
       "      <td>96465</td>\n",
       "      <td>19022</td>\n",
       "      <td>1227</td>\n",
       "    </tr>\n",
       "    <tr>\n",
       "      <th>myzo3pzq</th>\n",
       "      <td>0.039168</td>\n",
       "      <td>826</td>\n",
       "      <td>4075</td>\n",
       "      <td>51862</td>\n",
       "      <td>12431</td>\n",
       "      <td>1737</td>\n",
       "    </tr>\n",
       "    <tr>\n",
       "      <th>1zk4q26j</th>\n",
       "      <td>0.022390</td>\n",
       "      <td>32</td>\n",
       "      <td>18</td>\n",
       "      <td>33659</td>\n",
       "      <td>5703</td>\n",
       "      <td>18</td>\n",
       "    </tr>\n",
       "    <tr>\n",
       "      <th>4eppvoer,ne410dem</th>\n",
       "      <td>0.021501</td>\n",
       "      <td>29</td>\n",
       "      <td>903</td>\n",
       "      <td>61962</td>\n",
       "      <td>7168</td>\n",
       "      <td>36</td>\n",
       "    </tr>\n",
       "    <tr>\n",
       "      <th>2jevn26k</th>\n",
       "      <td>0.019551</td>\n",
       "      <td>603</td>\n",
       "      <td>485</td>\n",
       "      <td>10450</td>\n",
       "      <td>2540</td>\n",
       "      <td>158</td>\n",
       "    </tr>\n",
       "    <tr>\n",
       "      <th>81e7o2z7</th>\n",
       "      <td>0.010574</td>\n",
       "      <td>122</td>\n",
       "      <td>449</td>\n",
       "      <td>10876</td>\n",
       "      <td>1369</td>\n",
       "      <td>49</td>\n",
       "    </tr>\n",
       "    <tr>\n",
       "      <th>ge0ry3ep</th>\n",
       "      <td>0.010338</td>\n",
       "      <td>11</td>\n",
       "      <td>8</td>\n",
       "      <td>5759</td>\n",
       "      <td>1595</td>\n",
       "      <td>7</td>\n",
       "    </tr>\n",
       "    <tr>\n",
       "      <th>dqe5qkev</th>\n",
       "      <td>0.009625</td>\n",
       "      <td>322</td>\n",
       "      <td>463</td>\n",
       "      <td>4758</td>\n",
       "      <td>942</td>\n",
       "      <td>102</td>\n",
       "    </tr>\n",
       "    <tr>\n",
       "      <th>rzjkx7el</th>\n",
       "      <td>0.008220</td>\n",
       "      <td>31</td>\n",
       "      <td>33</td>\n",
       "      <td>13038</td>\n",
       "      <td>2115</td>\n",
       "      <td>48</td>\n",
       "    </tr>\n",
       "  </tbody>\n",
       "</table>\n",
       "</div>"
      ],
      "text/plain": [
       "                      value  num_categories  num_levels  num_runs  num_users  \\\n",
       "developers                                                                     \n",
       "None               1.611427           58893       93559    920020     206470   \n",
       "xv6dvx62           0.056938             601        2193     96465      19022   \n",
       "myzo3pzq           0.039168             826        4075     51862      12431   \n",
       "1zk4q26j           0.022390              32          18     33659       5703   \n",
       "4eppvoer,ne410dem  0.021501              29         903     61962       7168   \n",
       "2jevn26k           0.019551             603         485     10450       2540   \n",
       "81e7o2z7           0.010574             122         449     10876       1369   \n",
       "ge0ry3ep           0.010338              11           8      5759       1595   \n",
       "dqe5qkev           0.009625             322         463      4758        942   \n",
       "rzjkx7el           0.008220              31          33     13038       2115   \n",
       "\n",
       "                   num_guests  \n",
       "developers                     \n",
       "None                    10462  \n",
       "xv6dvx62                 1227  \n",
       "myzo3pzq                 1737  \n",
       "1zk4q26j                   18  \n",
       "4eppvoer,ne410dem          36  \n",
       "2jevn26k                  158  \n",
       "81e7o2z7                   49  \n",
       "ge0ry3ep                    7  \n",
       "dqe5qkev                  102  \n",
       "rzjkx7el                   48  "
      ]
     },
     "execution_count": 13,
     "metadata": {},
     "output_type": "execute_result"
    }
   ],
   "source": [
    "grouped_bc_df = merged_df.groupby(['developers']).sum()\n",
    "grouped_bc_df.sort_values(by=\"value\").tail(top_n_values).iloc[::-1]"
   ]
  },
  {
   "cell_type": "code",
   "execution_count": 14,
   "metadata": {},
   "outputs": [
    {
     "name": "stdout",
     "output_type": "stream",
     "text": [
      "{'id': 'xv6dvx62', 'name': 'Nintendo', 'links': [{'rel': 'self', 'uri': 'https://www.speedrun.com/api/v1/developers/xv6dvx62'}, {'rel': 'games', 'uri': 'https://www.speedrun.com/api/v1/games?developer=xv6dvx62'}]}\n"
     ]
    }
   ],
   "source": [
    "import requests\n",
    "developer = \"xv6dvx62\"\n",
    "response = requests.get(f\"https://speedrun.com/api/v1/developers/{developer}\")\n",
    "print(response.json().get(\"data\"))"
   ]
  },
  {
   "cell_type": "markdown",
   "metadata": {},
   "source": [
    "By grouping our dataframe by developer and summing the value column, we get the developers that have the highest betweenness centrality of their games. We find that the top developer is `None`. This means that no developer was listed in the speedrun.com API. The next valid value is `xv6dvx62`, which is Nintendo. Therefore, **Nintendo creates games that are most likely to get people into speedrunning**. In order, the next developers are Capcom, Matt Makes Games Inc., Seterra, Marianne Wartoft, Konami, Vicarious Visions, Dominique Grieshofer, SEGA, StudioMDHR Entertainment Inc.\n",
    "\n",
    "* [Nintendo](https://nintendo.fandom.com/wiki/List_of_Nintendo_games). Everyone knows Nintendo as it has literally *raised* most adults.\n",
    "* [Capcom](https://en.wikipedia.org/wiki/List_of_Capcom_games) is previously a titan of arcade games, and owner of franchises such as Street Fighter, Marvel vs. Capcom, Mega Man, Resident Evil, Devil May Cry, Dead Rising, Monster Hunter, Sengoku Basara, Onimusha and Ace Attorney. \n",
    "* [Matt Makes Games Inc.](https://www.mattmakesgames.com/) creates games such as Earthblade, Celeste, Towerfall.\n",
    "* [Marianne Wartoft](https://wartoft.se/) is the creator of Seterra, and created the studio Seterra to continue the development of that website.\n",
    "* [Konami](https://en.wikipedia.org/wiki/List_of_Konami_games#:~:text=PlayStation%20handhelds%20%20%20%20Title%20%20,July%2018%2C%202019%20%2025%20more%20rows%20) is similar to Capcom. Konami's video game franchises include Metal Gear, Silent Hill, Castlevania, Contra, Frogger, Tokimeki Memorial, Parodius, Gradius, Yu-Gi-Oh!, Suikoden, and eFootball.\n",
    "* [Vicarious Visions](https://en.wikipedia.org/wiki/Vicarious_Visions) is a game studio that has created a lot of movie tie-in games.\n",
    "* [Dominique Grieshofer](https://store.steampowered.com/dev/DomGries) has created games such as Refunct and Swarmlake.\n",
    "* [StudioMDHR Entertainment Inc.](http://studiomdhr.com/about-us/) created Cuphead and the sequel Cuphead: The Delicious Last Course."
   ]
  },
  {
   "cell_type": "code",
   "execution_count": 15,
   "metadata": {},
   "outputs": [
    {
     "data": {
      "text/plain": [
       "<AxesSubplot:>"
      ]
     },
     "execution_count": 15,
     "metadata": {},
     "output_type": "execute_result"
    },
    {
     "data": {
      "image/png": "[encoded data removed]",
      "text/plain": [
       "<Figure size 432x288 with 2 Axes>"
      ]
     },
     "metadata": {
      "needs_background": "light"
     },
     "output_type": "display_data"
    }
   ],
   "source": [
    "sns.heatmap(merged_df.corr())"
   ]
  },
  {
   "cell_type": "code",
   "execution_count": 16,
   "metadata": {},
   "outputs": [
    {
     "data": {
      "text/plain": [
       "<seaborn.axisgrid.PairGrid at 0x2f6df9faf70>"
      ]
     },
     "execution_count": 16,
     "metadata": {},
     "output_type": "execute_result"
    },
    {
     "data": {
      "image/png": "[encoded data removed]",
      "text/plain": [
       "<Figure size 1080x1080 with 42 Axes>"
      ]
     },
     "metadata": {
      "needs_background": "light"
     },
     "output_type": "display_data"
    }
   ],
   "source": [
    "sns.pairplot(merged_df)"
   ]
  },
  {
   "cell_type": "code",
   "execution_count": 17,
   "metadata": {},
   "outputs": [
    {
     "data": {
      "image/png": "[encoded data removed]",
      "text/plain": [
       "<Figure size 432x288 with 1 Axes>"
      ]
     },
     "metadata": {
      "needs_background": "light"
     },
     "output_type": "display_data"
    }
   ],
   "source": [
    "bc_df.hist()\n",
    "plt.show()"
   ]
  },
  {
   "cell_type": "markdown",
   "metadata": {},
   "source": [
    "### Visualising the Full Games Network\n",
    "\n",
    "We are trying two different layouts of visualisation: a circular network for emphasizing nodes, and a spring layout that emphasises the communities."
   ]
  },
  {
   "cell_type": "code",
   "execution_count": 8,
   "metadata": {},
   "outputs": [],
   "source": [
    "pos = nx.circular_layout(filtered_graph)\n",
    "nx.draw_networkx(\n",
    "    filtered_graph,\n",
    "    pos=pos,\n",
    "    node_size=0,\n",
    "    edge_color=\"#444444\",\n",
    "    alpha=0.05,\n",
    "    with_labels=False)"
   ]
  },
  {
   "cell_type": "code",
   "execution_count": null,
   "metadata": {},
   "outputs": [],
   "source": [
    "pos = nx.spring_layout(filtered_graph, k=0.1)\n",
    "nx.draw_networkx(\n",
    "    filtered_graph,\n",
    "    pos=pos,\n",
    "    node_size=0,\n",
    "    edge_color=\"#444444\",\n",
    "    alpha=0.05,\n",
    "    with_labels=False)"
   ]
  },
  {
   "cell_type": "markdown",
   "metadata": {},
   "source": [
    "### Collaborative Filtering with the Full Games Network\n",
    "\n",
    "Here we are going to be trying two different kinds of collaborative filtering: item based and user based filtering. \n",
    "\n",
    "https://realpython.com/build-recommendation-engine-collaborative-filtering/\n",
    "\n",
    "https://developers.google.com/machine-learning/recommendation/collaborative/basics\n",
    "\n",
    "https://medium.com/@urvimidha/recommendation-system-using-collaborative-filtering-in-python-83992251c8f7"
   ]
  },
  {
   "cell_type": "code",
   "execution_count": 193,
   "metadata": {},
   "outputs": [
    {
     "data": {
      "text/html": [
       "<div>\n",
       "<style scoped>\n",
       "    .dataframe tbody tr th:only-of-type {\n",
       "        vertical-align: middle;\n",
       "    }\n",
       "\n",
       "    .dataframe tbody tr th {\n",
       "        vertical-align: top;\n",
       "    }\n",
       "\n",
       "    .dataframe thead th {\n",
       "        text-align: right;\n",
       "    }\n",
       "</style>\n",
       "<table border=\"1\" class=\"dataframe\">\n",
       "  <thead>\n",
       "    <tr style=\"text-align: right;\">\n",
       "      <th></th>\n",
       "      <th>user</th>\n",
       "      <th>games</th>\n",
       "    </tr>\n",
       "  </thead>\n",
       "  <tbody>\n",
       "    <tr>\n",
       "      <th>0</th>\n",
       "      <td>8ewmr728</td>\n",
       "      <td>v1pxk0p6</td>\n",
       "    </tr>\n",
       "    <tr>\n",
       "      <th>1</th>\n",
       "      <td>8d4kdg58</td>\n",
       "      <td>4d79p0r1,4d7np7l6,268wxlo6,j1n8nj91,j1ljjjdg,k...</td>\n",
       "    </tr>\n",
       "    <tr>\n",
       "      <th>2</th>\n",
       "      <td>0jm4ppnj</td>\n",
       "      <td>pdv223k6,pdvzxkr6,4d7e7z67,9d388w01,9d388kg1,v...</td>\n",
       "    </tr>\n",
       "    <tr>\n",
       "      <th>3</th>\n",
       "      <td>8vk4w7vj</td>\n",
       "      <td>yd4k8gg6,ldejj3j1,76r3k3q6,m1zjxk36,3698oo3d,k...</td>\n",
       "    </tr>\n",
       "    <tr>\n",
       "      <th>4</th>\n",
       "      <td>zx7q0m08</td>\n",
       "      <td>j1ngel6p,369vk01l,lden35d3,pd0omwde,j1l2o76g,m...</td>\n",
       "    </tr>\n",
       "    <tr>\n",
       "      <th>5</th>\n",
       "      <td>816mrg5x</td>\n",
       "      <td>o1y9gqr6,pd0o9wde,v1po5j46,3dx22ny1,j1neljl1,7...</td>\n",
       "    </tr>\n",
       "    <tr>\n",
       "      <th>6</th>\n",
       "      <td>o86lyv58</td>\n",
       "      <td>w6jkle1j,o1y9nr46,v1pxo5m6,kdkmmg21,4d790zr1,n...</td>\n",
       "    </tr>\n",
       "    <tr>\n",
       "      <th>7</th>\n",
       "      <td>zx7yp6rx</td>\n",
       "      <td>3dx22ny1</td>\n",
       "    </tr>\n",
       "    <tr>\n",
       "      <th>8</th>\n",
       "      <td>dx3d1e8l</td>\n",
       "      <td>v1pk4zd8,nd2ryv60,nd25n3d0,om1m3625,k6qkxz6g,w...</td>\n",
       "    </tr>\n",
       "    <tr>\n",
       "      <th>9</th>\n",
       "      <td>o86qprwx</td>\n",
       "      <td>4d7954l1,v1plv868,w6jq441j,k6qwwvx6,3698wqgd,4...</td>\n",
       "    </tr>\n",
       "  </tbody>\n",
       "</table>\n",
       "</div>"
      ],
      "text/plain": [
       "       user                                              games\n",
       "0  8ewmr728                                           v1pxk0p6\n",
       "1  8d4kdg58  4d79p0r1,4d7np7l6,268wxlo6,j1n8nj91,j1ljjjdg,k...\n",
       "2  0jm4ppnj  pdv223k6,pdvzxkr6,4d7e7z67,9d388w01,9d388kg1,v...\n",
       "3  8vk4w7vj  yd4k8gg6,ldejj3j1,76r3k3q6,m1zjxk36,3698oo3d,k...\n",
       "4  zx7q0m08  j1ngel6p,369vk01l,lden35d3,pd0omwde,j1l2o76g,m...\n",
       "5  816mrg5x  o1y9gqr6,pd0o9wde,v1po5j46,3dx22ny1,j1neljl1,7...\n",
       "6  o86lyv58  w6jkle1j,o1y9nr46,v1pxo5m6,kdkmmg21,4d790zr1,n...\n",
       "7  zx7yp6rx                                           3dx22ny1\n",
       "8  dx3d1e8l  v1pk4zd8,nd2ryv60,nd25n3d0,om1m3625,k6qkxz6g,w...\n",
       "9  o86qprwx  4d7954l1,v1plv868,w6jq441j,k6qwwvx6,3698wqgd,4..."
      ]
     },
     "execution_count": 193,
     "metadata": {},
     "output_type": "execute_result"
    }
   ],
   "source": [
    "user_preference_df = pd.read_csv(\"../data/collaborative_filtering/user_games_preferences.csv\")\n",
    "user_preference_df.head(10)"
   ]
  },
  {
   "cell_type": "code",
   "execution_count": 199,
   "metadata": {},
   "outputs": [
    {
     "data": {
      "text/plain": [
       "((678112, 3), 32006)"
      ]
     },
     "execution_count": 199,
     "metadata": {},
     "output_type": "execute_result"
    }
   ],
   "source": [
    "exploded_user_preference_df = user_preference_df.assign(games=user_preference_df['games'].str.split(',')).explode('games')\n",
    "exploded_user_preference_df = exploded_user_preference_df.reset_index(drop=True)\n",
    "exploded_user_preference_df = exploded_user_preference_df.drop_duplicates()\n",
    "exploded_user_preference_df['value'] = 1\n",
    "exploded_user_preference_df.shape, len(exploded_user_preference_df['games'].unique())"
   ]
  },
  {
   "cell_type": "code",
   "execution_count": null,
   "metadata": {},
   "outputs": [],
   "source": [
    "chunk_size = 10000\n",
    "\n",
    "# chunk the exploded DataFrame into smaller pieces\n",
    "chunks = [exploded_user_preference_df[i:i+chunk_size] for i in range(0, exploded_user_preference_df.shape[0], chunk_size)]\n",
    "\n",
    "# compute the pivot table for each chunk\n",
    "pivot_tables = []\n",
    "for chunk in chunks:\n",
    "    pivot_table = pd.pivot_table(chunk, values='value', index='user', columns='games', fill_value=0)\n",
    "    pivot_tables.append(pivot_table)\n",
    "\n",
    "# concatenate the pivot tables into a single DataFrame\n",
    "exploded_user_preference_df = pd.concat(pivot_tables, axis=1)\n",
    "exploded_user_preference_df"
   ]
  },
  {
   "cell_type": "markdown",
   "metadata": {},
   "source": [
    "## Other Percentage Limited Networks \n",
    "\n",
    "Using a limited version of the full network (10% representing the collated related games of the first 10% of games in the `data/related_games/` directory, ~3000 games.) we can see how the network evolves over time. We can see that there is a logarithmic increase in the number of nodes, or games, represented in the network when more time progresses.\n",
    "\n",
    "| Percentage | # Nodes | # Edges |\n",
    "|----|---|---|\n",
    "| 10 | 27244 | 1445265 | \n",
    "| 20 | 28920 | 2892985 | \n",
    "| 30 | 29577 | 4376975 | \n",
    "| 40 | 29930 | 5801217 | \n",
    "| 50 | 30144 | 8707409 | \n",
    "| 60 | 30274 | 9015808 | \n",
    "| 70 | 30349 | 10247364 | \n",
    "| 80 | 30398 | 11800570 | \n",
    "| 90 | 30427 | 13290703 | "
   ]
  },
  {
   "cell_type": "code",
   "execution_count": 6,
   "metadata": {},
   "outputs": [
    {
     "name": "stdout",
     "output_type": "stream",
     "text": [
      "10: (27244, 1445265)\n",
      "20: (28920, 2892985)\n",
      "30: (29577, 4376975)\n",
      "40: (29930, 5801217)\n",
      "50: (30144, 7251401)\n",
      "60: (30274, 8707409)\n",
      "70: (30349, 10247364)\n",
      "80: (30398, 11800570)\n",
      "90: (30427, 13290703)\n"
     ]
    }
   ],
   "source": [
    "filter_filename = \"../data/games_information/all_games.csv\"\n",
    "filter_map = generate_network_filter(filter_filename)\n",
    "\n",
    "percentages_files = {\n",
    "    \"10\":\"../data/too_big/all_games_10_percent.csv\",\n",
    "    \"20\":\"../data/too_big/all_games_20_percent.csv\",\n",
    "    \"30\":\"../data/too_big/all_games_30_percent.csv\",\n",
    "    \"40\":\"../data/too_big/all_games_40_percent.csv\",\n",
    "    \"50\":\"../data/too_big/all_games_50_percent.csv\",\n",
    "    \"60\":\"../data/too_big/all_games_60_percent.csv\",\n",
    "    \"70\":\"../data/too_big/all_games_70_percent.csv\",\n",
    "    \"80\":\"../data/too_big/all_games_80_percent.csv\",\n",
    "    \"90\":\"../data/too_big/all_games_90_percent.csv\",\n",
    "}\n",
    "\n",
    "for percentage, filename in percentages_files.items():\n",
    "    edges = get_weighted_edges_from_csv(filename, filter=filter_map)\n",
    "    graph = generate_graph_from_edges(edges)\n",
    "    print(f\"{percentage}: {get_graph_order_size(graph)}\")"
   ]
  },
  {
   "cell_type": "markdown",
   "metadata": {},
   "source": [
    "Getting the top 21 betweenness centrality nodes, which can be seen below."
   ]
  },
  {
   "cell_type": "code",
   "execution_count": 9,
   "metadata": {},
   "outputs": [
    {
     "name": "stdout",
     "output_type": "stream",
     "text": [
      "(21713, 1798823)\n",
      "['k6qew96g', 'y65457de', 'm1mp9312', '76rmo418', '4d7eog67', 'w6jkle1j', 'kdkz7ldm', '9doye36p', 'kdkzvmld', '9d3rr0dl', 'kyd4gde4', 'l3dx51yv', 'y658506e', 'v1p0x468', 'm9do0odp', 'pd0wq31e', 'om1m3625', '46w2l76r', 'nd28gvd0', '3dxzqv1y', '369go31l']\n"
     ]
    }
   ],
   "source": [
    "filter_filename = \"../data/games_information/all_games.csv\"\n",
    "graph_filename = \"../data/too_big/all_games_10_percent.csv\"\n",
    "filter_map = generate_network_filter(filter_filename)\n",
    "edges = get_weighted_edges_from_csv(graph_filename, filter=filter_map)\n",
    "graph = generate_graph_from_edges(edges)\n",
    "print(get_graph_order_size(graph))\n",
    "\n",
    "highest_bc_nodes = find_top_n_betweenness_centrality_nodes(graph, n=25)\n",
    "print(highest_bc_nodes)"
   ]
  }
 ],
 "metadata": {
  "kernelspec": {
   "display_name": "base",
   "language": "python",
   "name": "python3"
  },
  "language_info": {
   "codemirror_mode": {
    "name": "ipython",
    "version": 3
   },
   "file_extension": ".py",
   "mimetype": "text/x-python",
   "name": "python",
   "nbconvert_exporter": "python",
   "pygments_lexer": "ipython3",
   "version": "3.9.12"
  },
  "orig_nbformat": 4,
  "vscode": {
   "interpreter": {
    "hash": "aeeec63d06273d17ce9164221d232af429b3d076ba4020c4f87a9782ce9b50a0"
   }
  }
 },
 "nbformat": 4,
 "nbformat_minor": 2
}
