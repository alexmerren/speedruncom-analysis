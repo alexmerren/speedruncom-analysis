{
 "cells": [
  {
   "cell_type": "code",
   "execution_count": 3,
   "metadata": {},
   "outputs": [],
   "source": [
    "import csv\n",
    "import networkx as nx\n",
    "from networkx.algorithms import pagerank\n",
    "from collections import defaultdict\n",
    "from datetime import datetime"
   ]
  },
  {
   "cell_type": "code",
   "execution_count": 4,
   "metadata": {},
   "outputs": [],
   "source": [
    "FINAL_DATE = datetime(2023, 1, 1)"
   ]
  },
  {
   "cell_type": "code",
   "execution_count": 12,
   "metadata": {},
   "outputs": [],
   "source": [
    "def generate_network_filter(filename: str):\n",
    "    with open(filename, 'r') as openfile:\n",
    "        csv_reader = csv.reader(openfile)\n",
    "        next(csv_reader)\n",
    "        filter_map = defaultdict(bool)\n",
    "        for row in csv_reader:\n",
    "            # Check if the created/release date is after 2023, if it is then we can ignore it in the network.\n",
    "            release_date = datetime.strptime(row[3], \"%Y-%m-%d\")\n",
    "            if row[4] == \"None\":\n",
    "                row[4] = \"2017-10-22T05:21:29Z\"\n",
    "            created_date = datetime.strptime(row[4], \"%Y-%m-%dT%H:%M:%SZ\")\n",
    "            if created_date < FINAL_DATE and release_date < FINAL_DATE:\n",
    "                filter_map[row[0]] = True\n",
    "\n",
    "    return filter_map\n",
    "\n",
    "def get_weighted_edges_from_csv(filename, filter=None):\n",
    "    with open(filename, 'r') as openfile:\n",
    "        csv_reader = csv.reader(openfile)\n",
    "        next(csv_reader)\n",
    "\n",
    "        edges = list()\n",
    "        for row in csv_reader:\n",
    "            if filter is None:\n",
    "                edges.append(tuple([row[0], row[1], int(row[2])]))\n",
    "                continue\n",
    "            \n",
    "            if not filter.get(row[0]) or not filter.get(row[1]):\n",
    "                continue\n",
    "\n",
    "            edges.append(tuple([row[0], row[1], int(row[2])]))\n",
    "\n",
    "    return edges\n",
    "\n",
    "def generate_graph_from_edges(edges_list):\n",
    "    directed_graph = nx.DiGraph()\n",
    "    directed_graph.add_weighted_edges_from(edges_list)\n",
    "    return directed_graph"
   ]
  },
  {
   "cell_type": "code",
   "execution_count": 6,
   "metadata": {},
   "outputs": [],
   "source": [
    "def find_top_n_pagerank_nodes(g: nx.Graph, n=1):\n",
    "    values = pagerank(g)\n",
    "    values_sorted = dict(sorted(values.items(), key=lambda item: item[1], reverse=True))\n",
    "    return list(values_sorted)[0:n]\n",
    "\n",
    "def get_graph_order_size(g: nx.Graph):\n",
    "    return g.order(), g.size()\n",
    "\n",
    "def find_top_n_betweenness_centrality_nodes(g: nx.Graph, n=10):\n",
    "    degree_centrality = nx.degree_centrality(g)\n",
    "    betweenness_centrality = nx.betweenness_centrality(g, normalized=True, endpoints=True)\n",
    "\n",
    "    degree_centrality_sorted = dict(sorted(degree_centrality.items(), key=lambda item: item[1], reverse=True))\n",
    "    betweenness_centrality_sorted = dict(sorted(betweenness_centrality.items(), key=lambda item: item[1], reverse=True))\n",
    "\n",
    "    keys_top_degree = list(degree_centrality_sorted)[0:n]\n",
    "    keys_top_betweenness = list(betweenness_centrality_sorted)[0:n]\n",
    "    return list(set(keys_top_degree) & set(keys_top_betweenness))"
   ]
  },
  {
   "cell_type": "code",
   "execution_count": 13,
   "metadata": {},
   "outputs": [
    {
     "name": "stdout",
     "output_type": "stream",
     "text": [
      "(30434, 14744682)\n"
     ]
    }
   ],
   "source": [
    "filter_filename = \"../data/games_information/all_games.csv\"\n",
    "graph_filename = \"../data/too_big/all_games.csv\"\n",
    "filter_map = generate_network_filter(filter_filename)\n",
    "edges = get_weighted_edges_from_csv(graph_filename, filter=filter_map)\n",
    "graph = generate_graph_from_edges(edges)\n",
    "print(get_graph_order_size(graph))\n",
    "# print(find_top_n_betweenness_centrality_nodes(graph, n=100))"
   ]
  }
 ],
 "metadata": {
  "interpreter": {
   "hash": "ed225720166559e7176d3793db16a2fd8d295f725007103b21ac3099d2a89ee8"
  },
  "kernelspec": {
   "display_name": "Python 3.9.12 ('base')",
   "language": "python",
   "name": "python3"
  },
  "language_info": {
   "codemirror_mode": {
    "name": "ipython",
    "version": 3
   },
   "file_extension": ".py",
   "mimetype": "text/x-python",
   "name": "python",
   "nbconvert_exporter": "python",
   "pygments_lexer": "ipython3",
   "version": "3.9.12"
  },
  "orig_nbformat": 4
 },
 "nbformat": 4,
 "nbformat_minor": 2
}
